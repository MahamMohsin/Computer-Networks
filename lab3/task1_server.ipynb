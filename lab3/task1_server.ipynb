{
 "cells": [
  {
   "cell_type": "code",
   "execution_count": null,
   "id": "884fdd75-c0b0-4008-8671-b89ecebb8197",
   "metadata": {},
   "outputs": [
    {
     "name": "stdout",
     "output_type": "stream",
     "text": [
      "Socket created\n",
      "Waiting for connection...\n",
      "Got request from ('127.0.0.1', 56201)\n"
     ]
    }
   ],
   "source": [
    "import socket\n",
    "\n",
    "server_socket = socket.socket()\n",
    "print(\"Socket created\")\n",
    "\n",
    "server_socket.bind(('localhost', 12345))\n",
    "server_socket.listen(5)\n",
    "print(\"Waiting for connection...\")\n",
    "\n",
    "while True:\n",
    "    c, addr = server_socket.accept()\n",
    "    print(f\"Got request from {addr}\")\n",
    "    c.send(bytes(\"Thank you for connecting\", \"utf-8\"))\n",
    "    c.close()"
   ]
  },
  {
   "cell_type": "code",
   "execution_count": null,
   "id": "ba67685c-76ea-4377-811f-43b7f79c0fea",
   "metadata": {},
   "outputs": [],
   "source": []
  }
 ],
 "metadata": {
  "kernelspec": {
   "display_name": "Python 3 (ipykernel)",
   "language": "python",
   "name": "python3"
  },
  "language_info": {
   "codemirror_mode": {
    "name": "ipython",
    "version": 3
   },
   "file_extension": ".py",
   "mimetype": "text/x-python",
   "name": "python",
   "nbconvert_exporter": "python",
   "pygments_lexer": "ipython3",
   "version": "3.13.5"
  }
 },
 "nbformat": 4,
 "nbformat_minor": 5
}
