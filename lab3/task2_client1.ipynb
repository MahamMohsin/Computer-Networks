{
 "cells": [
  {
   "cell_type": "code",
   "execution_count": 1,
   "id": "cb4da257-976c-46a5-8268-e755c4eb65d8",
   "metadata": {},
   "outputs": [
    {
     "name": "stdout",
     "output_type": "stream",
     "text": [
      "Connected to chat! Type 'exit' to leave.\n"
     ]
    },
    {
     "name": "stdin",
     "output_type": "stream",
     "text": [
      " hi\n"
     ]
    },
    {
     "name": "stdout",
     "output_type": "stream",
     "text": [
      "('127.0.0.1', 58552): hello\n"
     ]
    },
    {
     "name": "stdin",
     "output_type": "stream",
     "text": [
      " how are you\n"
     ]
    },
    {
     "name": "stdout",
     "output_type": "stream",
     "text": [
      "('127.0.0.1', 58552): great, but currently busy\n"
     ]
    },
    {
     "name": "stdin",
     "output_type": "stream",
     "text": [
      " ok will talk later then\n",
      " exit\n"
     ]
    },
    {
     "name": "stdout",
     "output_type": "stream",
     "text": [
      "Connection closed.\n"
     ]
    }
   ],
   "source": [
    "import socket\n",
    "import threading\n",
    "\n",
    "def receive_messages(sock):\n",
    "    while True:\n",
    "        try:\n",
    "            msg = sock.recv(1024).decode()\n",
    "            if msg:\n",
    "                print(msg)\n",
    "        except:\n",
    "            print(\"Connection closed.\")\n",
    "            break\n",
    "\n",
    "def start_client():\n",
    "    client = socket.socket(socket.AF_INET, socket.SOCK_STREAM)\n",
    "    client.connect((\"127.0.0.1\", 12345))  \n",
    "    # Start a thread to receive messages\n",
    "    thread = threading.Thread(target=receive_messages, args=(client,))\n",
    "    thread.start()\n",
    "\n",
    "    print(\"Connected to chat! Type 'exit' to leave.\")\n",
    "    while True:\n",
    "        msg = input()\n",
    "        client.send(msg.encode())\n",
    "        if msg.lower() == \"exit\":\n",
    "            client.close()\n",
    "            break\n",
    "\n",
    "if __name__ == \"__main__\":\n",
    "    start_client()\n"
   ]
  },
  {
   "cell_type": "code",
   "execution_count": null,
   "id": "e3600638-9701-4781-b414-062246cbaa55",
   "metadata": {},
   "outputs": [],
   "source": []
  }
 ],
 "metadata": {
  "kernelspec": {
   "display_name": "Python 3 (ipykernel)",
   "language": "python",
   "name": "python3"
  },
  "language_info": {
   "codemirror_mode": {
    "name": "ipython",
    "version": 3
   },
   "file_extension": ".py",
   "mimetype": "text/x-python",
   "name": "python",
   "nbconvert_exporter": "python",
   "pygments_lexer": "ipython3",
   "version": "3.13.5"
  }
 },
 "nbformat": 4,
 "nbformat_minor": 5
}
