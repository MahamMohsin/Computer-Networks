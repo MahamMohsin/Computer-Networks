{
 "cells": [
  {
   "cell_type": "code",
   "execution_count": 1,
   "id": "71bb3bd9-11fa-440e-816d-c92cc385bcc2",
   "metadata": {},
   "outputs": [
    {
     "name": "stdout",
     "output_type": "stream",
     "text": [
      "Hostname: DESKTOP-PO8TV73\n",
      "IP_ADDRESS: 192.168.5.207\n"
     ]
    }
   ],
   "source": [
    "#getting ip address in python\n",
    "\n",
    "import socket\n",
    "\n",
    "#ip address by socket.gethostbyname() method\n",
    "hostname=socket.gethostname()\n",
    "\n",
    "ip_address=socket.gethostbyname(hostname)\n",
    "\n",
    "print(f\"Hostname: {hostname}\")\n",
    "print(f\"IP_ADDRESS: {ip_address}\")"
   ]
  },
  {
   "cell_type": "code",
   "execution_count": 2,
   "id": "c7b84db5-333d-46d5-9fae-2926c3c2433c",
   "metadata": {},
   "outputs": [
    {
     "name": "stdout",
     "output_type": "stream",
     "text": [
      "Hostname: www.google.com\n",
      "IP_ADDRESS: 142.250.202.164\n",
      "\n",
      "Hostname: www.facebook.com\n",
      "IP_ADDRESS: 57.144.148.1\n",
      "\n"
     ]
    }
   ],
   "source": [
    "#getting any host IP address in python\n",
    "hostnames=['www.google.com','www.facebook.com']\n",
    "\n",
    "for i in hostnames:\n",
    "    ip_address=socket.gethostbyname(i)\n",
    "    print(f\"Hostname: {i}\")\n",
    "    print(f\"IP_ADDRESS: {ip_address}\\n\")\n"
   ]
  },
  {
   "cell_type": "code",
   "execution_count": 6,
   "id": "fdcd03ba-10b5-4edf-891f-c11dd7ecee56",
   "metadata": {},
   "outputs": [
    {
     "ename": "AttributeError",
     "evalue": "type object 'socket' has no attribute 'gethostbyaddr'",
     "output_type": "error",
     "traceback": [
      "\u001b[1;31m---------------------------------------------------------------------------\u001b[0m",
      "\u001b[1;31mAttributeError\u001b[0m                            Traceback (most recent call last)",
      "Cell \u001b[1;32mIn[6], line 2\u001b[0m\n\u001b[0;32m      1\u001b[0m \u001b[38;5;66;03m#getting hostname by IP address in python\u001b[39;00m\n\u001b[1;32m----> 2\u001b[0m hname\u001b[38;5;241m=\u001b[39msocket\u001b[38;5;241m.\u001b[39mgethostbyaddr(\u001b[38;5;124m'\u001b[39m\u001b[38;5;124m8.8.8.8\u001b[39m\u001b[38;5;124m'\u001b[39m)\n\u001b[0;32m      3\u001b[0m hname1\u001b[38;5;241m=\u001b[39msocket\u001b[38;5;241m.\u001b[39mgethostbyaddr(\u001b[38;5;124m'\u001b[39m\u001b[38;5;124m192.168.5.207\u001b[39m\u001b[38;5;124m'\u001b[39m)\n\u001b[0;32m      5\u001b[0m \u001b[38;5;28mprint\u001b[39m(\u001b[38;5;124mf\u001b[39m\u001b[38;5;124m\"\u001b[39m\u001b[38;5;124mIP_ADDRESS: \u001b[39m\u001b[38;5;132;01m{\u001b[39;00mhname\u001b[38;5;132;01m}\u001b[39;00m\u001b[38;5;124m\"\u001b[39m)\n",
      "\u001b[1;31mAttributeError\u001b[0m: type object 'socket' has no attribute 'gethostbyaddr'"
     ]
    }
   ],
   "source": [
    "#getting hostname by IP address in python\n",
    "hname=socket.gethostbyaddr('8.8.8.8')\n",
    "\n",
    "print(f\"IP_ADDRESS: {hname}\")"
   ]
  },
  {
   "cell_type": "code",
   "execution_count": 4,
   "id": "7b525f61-133e-4082-b7a9-81c5e6b19415",
   "metadata": {},
   "outputs": [
    {
     "name": "stdout",
     "output_type": "stream",
     "text": [
      "Port 53 => Service name: domain\n",
      "Port 80 => Service name: http\n",
      "Port 25 => Service name: smtp\n"
     ]
    }
   ],
   "source": [
    "#getting service name, given port number & protocol in python\n",
    "def find_service_name():\n",
    "    protocol_name='tcp'\n",
    "    for port in [80,25]:\n",
    "        print(\"Port %s => Service name: %s\" %(port, socket.getservbyport(port, protocol_name)))\n",
    "\n",
    "print(\"Port %s => Service name: %s\" %(53, socket.getservbyport(53, 'udp')))\n",
    "\n",
    "if __name__=='__main__':\n",
    "    find_service_name()"
   ]
  },
  {
   "cell_type": "code",
   "execution_count": 5,
   "id": "817ec016-9970-4a0e-8b9e-d9b918df288b",
   "metadata": {},
   "outputs": [
    {
     "name": "stdin",
     "output_type": "stream",
     "text": [
      "Enter the hostname to be scanned:  localhost\n"
     ]
    },
    {
     "name": "stdout",
     "output_type": "stream",
     "text": [
      "Starting scan on host:  127.0.0.1\n",
      "Port 135: OPEN\n",
      "Port 445: OPEN\n",
      "Time Taken in Seconds:  908.8745679855347\n",
      "Time in Minutes:  15.147922396659851\n"
     ]
    }
   ],
   "source": [
    "#port Scanner\n",
    "# importing the socket module:\n",
    "from socket import *\n",
    "\n",
    "# importing time module\n",
    "import time\n",
    "\n",
    "startTime = time.time()\n",
    "\n",
    "if __name__ == '__main__':\n",
    "    target = input(\"Enter the hostname to be scanned: \")\n",
    "    target_ip = gethostbyname(target)\n",
    "    print(\"Starting scan on host: \", target_ip)\n",
    "\n",
    "    for i in range(50, 500):\n",
    "        s = socket(AF_INET, SOCK_STREAM)\n",
    "        conn = s.connect_ex((target_ip, i))\n",
    "\n",
    "        if (conn == 0):\n",
    "            print(\"Port %d: OPEN\" % (i,))\n",
    "        s.close()\n",
    "\n",
    "print(\"Time Taken in Seconds: \", time.time() - startTime)\n",
    "print(\"Time in Minutes: \", (time.time() - startTime) / 60)"
   ]
  }
 ],
 "metadata": {
  "kernelspec": {
   "display_name": "Python 3 (ipykernel)",
   "language": "python",
   "name": "python3"
  },
  "language_info": {
   "codemirror_mode": {
    "name": "ipython",
    "version": 3
   },
   "file_extension": ".py",
   "mimetype": "text/x-python",
   "name": "python",
   "nbconvert_exporter": "python",
   "pygments_lexer": "ipython3",
   "version": "3.13.5"
  }
 },
 "nbformat": 4,
 "nbformat_minor": 5
}
