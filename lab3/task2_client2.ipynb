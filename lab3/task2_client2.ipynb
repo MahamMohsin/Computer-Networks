{
 "cells": [
  {
   "cell_type": "code",
   "execution_count": 1,
   "id": "f22727af-e076-41e8-bca3-11c2a5006321",
   "metadata": {},
   "outputs": [
    {
     "name": "stdout",
     "output_type": "stream",
     "text": [
      "Connected to chat! Type 'exit' to leave.\n",
      "('127.0.0.1', 58553): hi\n"
     ]
    },
    {
     "name": "stdin",
     "output_type": "stream",
     "text": [
      " hello\n"
     ]
    },
    {
     "name": "stdout",
     "output_type": "stream",
     "text": [
      "('127.0.0.1', 58553): how are you\n"
     ]
    },
    {
     "name": "stdin",
     "output_type": "stream",
     "text": [
      " great, but currently busy\n"
     ]
    },
    {
     "name": "stdout",
     "output_type": "stream",
     "text": [
      "('127.0.0.1', 58553): ok will talk later then\n",
      "('127.0.0.1', 58553) has left the chat.\n"
     ]
    },
    {
     "name": "stdin",
     "output_type": "stream",
     "text": [
      " exit\n"
     ]
    },
    {
     "name": "stdout",
     "output_type": "stream",
     "text": [
      "Connection closed.\n"
     ]
    }
   ],
   "source": [
    "import socket\n",
    "import threading\n",
    "\n",
    "def receive_messages(sock):\n",
    "    while True:\n",
    "        try:\n",
    "            msg = sock.recv(1024).decode()\n",
    "            if msg:\n",
    "                print(msg)\n",
    "        except:\n",
    "            print(\"Connection closed.\")\n",
    "            break\n",
    "\n",
    "def start_client():\n",
    "    client = socket.socket(socket.AF_INET, socket.SOCK_STREAM)\n",
    "    client.connect((\"127.0.0.1\", 12345))  \n",
    "    # Start a thread to receive messages\n",
    "    thread = threading.Thread(target=receive_messages, args=(client,))\n",
    "    thread.start()\n",
    "\n",
    "    print(\"Connected to chat! Type 'exit' to leave.\")\n",
    "    while True:\n",
    "        msg = input()\n",
    "        client.send(msg.encode())\n",
    "        if msg.lower() == \"exit\":\n",
    "            client.close()\n",
    "            break\n",
    "\n",
    "if __name__ == \"__main__\":\n",
    "    start_client()\n"
   ]
  },
  {
   "cell_type": "code",
   "execution_count": null,
   "id": "81609b7e-b4f8-4d9e-ac8f-7452d5cf3145",
   "metadata": {},
   "outputs": [],
   "source": []
  }
 ],
 "metadata": {
  "kernelspec": {
   "display_name": "Python 3 (ipykernel)",
   "language": "python",
   "name": "python3"
  },
  "language_info": {
   "codemirror_mode": {
    "name": "ipython",
    "version": 3
   },
   "file_extension": ".py",
   "mimetype": "text/x-python",
   "name": "python",
   "nbconvert_exporter": "python",
   "pygments_lexer": "ipython3",
   "version": "3.13.5"
  }
 },
 "nbformat": 4,
 "nbformat_minor": 5
}
