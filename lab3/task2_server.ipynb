{
 "cells": [
  {
   "cell_type": "code",
   "execution_count": null,
   "id": "784ac439-fc4c-43dd-b389-52ea8b0b930a",
   "metadata": {},
   "outputs": [
    {
     "name": "stdout",
     "output_type": "stream",
     "text": [
      "[SERVER STARTED] Listening on port 12345...\n",
      "[NEW CONNECTION] ('127.0.0.1', 58552) connected.\n",
      "[NEW CONNECTION] ('127.0.0.1', 58553) connected.\n",
      "[('127.0.0.1', 58553)] hi\n",
      "[('127.0.0.1', 58552)] hello\n",
      "[('127.0.0.1', 58553)] how are you\n",
      "[('127.0.0.1', 58552)] great, but currently busy\n",
      "[('127.0.0.1', 58553)] ok will talk later then\n"
     ]
    }
   ],
   "source": [
    "import socket\n",
    "import threading\n",
    "\n",
    "clients = []\n",
    "\n",
    "def client_handler(conn, addr):\n",
    "    print(f\"[NEW CONNECTION] {addr} connected.\")\n",
    "    while True:\n",
    "        try:\n",
    "            msg = conn.recv(1024).decode()\n",
    "            if not msg:\n",
    "                break\n",
    "\n",
    "            #close everything if exit received\n",
    "            if msg.lower() == \"exit\":\n",
    "                broadcast(f\"{addr} has left the chat.\", conn)\n",
    "                conn.close()\n",
    "                clients.remove(conn)\n",
    "                break\n",
    "\n",
    "            print(f\"[{addr}] {msg}\")\n",
    "            broadcast(f\"{addr}: {msg}\", conn)\n",
    "\n",
    "        except:\n",
    "            conn.close()\n",
    "            if conn in clients:\n",
    "                clients.remove(conn)\n",
    "            break\n",
    "\n",
    "def broadcast(message, sender_conn):\n",
    "    for client in clients:\n",
    "        if client != sender_conn:\n",
    "            try:\n",
    "                client.send(message.encode())\n",
    "            except:\n",
    "                client.close()\n",
    "                clients.remove(client)\n",
    "\n",
    "def start_server():\n",
    "    server = socket.socket(socket.AF_INET, socket.SOCK_STREAM)\n",
    "    server.bind((\"127.0.0.1\", 12345)) \n",
    "    server.listen()\n",
    "    print(\"[SERVER STARTED] Listening on port 12345...\")\n",
    "\n",
    "    while True:\n",
    "        conn, addr = server.accept()\n",
    "        clients.append(conn)\n",
    "        thread = threading.Thread(target=client_handler, args=(conn, addr))\n",
    "        thread.start()\n",
    "\n",
    "if __name__ == \"__main__\":\n",
    "    start_server()\n"
   ]
  },
  {
   "cell_type": "code",
   "execution_count": null,
   "id": "db9fbf2d-cea2-448f-995c-4873ce86e959",
   "metadata": {},
   "outputs": [],
   "source": []
  }
 ],
 "metadata": {
  "kernelspec": {
   "display_name": "Python 3 (ipykernel)",
   "language": "python",
   "name": "python3"
  },
  "language_info": {
   "codemirror_mode": {
    "name": "ipython",
    "version": 3
   },
   "file_extension": ".py",
   "mimetype": "text/x-python",
   "name": "python",
   "nbconvert_exporter": "python",
   "pygments_lexer": "ipython3",
   "version": "3.13.5"
  }
 },
 "nbformat": 4,
 "nbformat_minor": 5
}
