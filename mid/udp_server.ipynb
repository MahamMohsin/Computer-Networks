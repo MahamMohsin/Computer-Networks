{
 "cells": [
  {
   "cell_type": "code",
   "execution_count": 6,
   "id": "ee807ba1-a064-4c75-be72-48b429480f18",
   "metadata": {},
   "outputs": [
    {
     "name": "stdout",
     "output_type": "stream",
     "text": [
      "udp server running\n",
      "Client:  hiii\n"
     ]
    },
    {
     "name": "stdin",
     "output_type": "stream",
     "text": [
      "Enter msg:  how are you\n"
     ]
    },
    {
     "name": "stdout",
     "output_type": "stream",
     "text": [
      "Client:  hello\n"
     ]
    },
    {
     "name": "stdin",
     "output_type": "stream",
     "text": [
      "Enter msg:  hi\n"
     ]
    },
    {
     "name": "stdout",
     "output_type": "stream",
     "text": [
      "Client:  wassup\n"
     ]
    },
    {
     "name": "stdin",
     "output_type": "stream",
     "text": [
      "Enter msg:  hi\n"
     ]
    },
    {
     "name": "stdout",
     "output_type": "stream",
     "text": [
      "Client:  exit\n",
      "client disconnected\n"
     ]
    }
   ],
   "source": [
    "#Problem Statement\n",
    "\n",
    "#Write a Python program to implement a UDP client-server model where:\n",
    "\n",
    "#The client sends a message \"Hello UDP Server\" to the server.\n",
    "\n",
    "#The server receives it and replies \"Hello UDP Client\".\n",
    "\n",
    "#Communication continues until the client sends \"exit\" to terminate.\n",
    "import socket\n",
    "\n",
    "s=socket.socket(socket.AF_INET,socket.SOCK_DGRAM)\n",
    "s.bind(('localhost',8888))\n",
    "print('udp server running')\n",
    "\n",
    "#s.listen(5)\n",
    "\n",
    "while True:\n",
    "    client,addr=s.recvfrom(1024)\n",
    "    msg=client.decode()\n",
    "    print(\"Client: \",msg)\n",
    "\n",
    "    if msg.lower() == 'exit':\n",
    "        print(\"client disconnected\")\n",
    "        break \n",
    "\n",
    "    s.sendto('Hello udp client'.encode(),addr)\n",
    "\n",
    "\n",
    "#closing\n",
    "s.close()"
   ]
  },
  {
   "cell_type": "code",
   "execution_count": null,
   "id": "51979f86-bede-45c7-9fdb-4a041a089b51",
   "metadata": {},
   "outputs": [],
   "source": []
  }
 ],
 "metadata": {
  "kernelspec": {
   "display_name": "Python 3 (ipykernel)",
   "language": "python",
   "name": "python3"
  },
  "language_info": {
   "codemirror_mode": {
    "name": "ipython",
    "version": 3
   },
   "file_extension": ".py",
   "mimetype": "text/x-python",
   "name": "python",
   "nbconvert_exporter": "python",
   "pygments_lexer": "ipython3",
   "version": "3.13.5"
  }
 },
 "nbformat": 4,
 "nbformat_minor": 5
}
