{
 "cells": [
  {
   "cell_type": "code",
   "execution_count": 10,
   "id": "cbd2aa83-ec1d-42c2-a5ed-06e029538af0",
   "metadata": {},
   "outputs": [
    {
     "name": "stdin",
     "output_type": "stream",
     "text": [
      "Enter message (type exit to quit) hiii\n",
      "Enter message (type exit to quit) hello\n",
      "Enter message (type exit to quit) wassup\n",
      "Enter message (type exit to quit) exit\n"
     ]
    },
    {
     "name": "stdout",
     "output_type": "stream",
     "text": [
      "closing connection\n",
      "Message: how are you\n"
     ]
    }
   ],
   "source": [
    "import socket\n",
    "\n",
    "s=socket.socket(socket.AF_INET,socket.SOCK_DGRAM)\n",
    "\n",
    "addr=('localhost',8888)\n",
    "\n",
    "while True:\n",
    "    #input msg from user\n",
    "    msg=input(\"Enter message (type exit to quit)\")\n",
    "\n",
    "    s.sendto(msg.encode(),addr)\n",
    "\n",
    "    if msg.lower() == 'exit':\n",
    "        print(\"closing connection\")\n",
    "        break\n",
    "\n",
    "data, _ = s.recvfrom(1024)\n",
    "print(\"Message:\", data.decode())\n",
    "\n",
    "\n",
    "s.close()"
   ]
  },
  {
   "cell_type": "code",
   "execution_count": null,
   "id": "dd0e07d8-0269-4b7c-86ab-862385c76936",
   "metadata": {},
   "outputs": [],
   "source": []
  }
 ],
 "metadata": {
  "kernelspec": {
   "display_name": "Python 3 (ipykernel)",
   "language": "python",
   "name": "python3"
  },
  "language_info": {
   "codemirror_mode": {
    "name": "ipython",
    "version": 3
   },
   "file_extension": ".py",
   "mimetype": "text/x-python",
   "name": "python",
   "nbconvert_exporter": "python",
   "pygments_lexer": "ipython3",
   "version": "3.13.5"
  }
 },
 "nbformat": 4,
 "nbformat_minor": 5
}
