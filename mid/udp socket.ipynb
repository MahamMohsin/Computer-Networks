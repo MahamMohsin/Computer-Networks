{
 "cells": [
  {
   "cell_type": "code",
   "execution_count": null,
   "id": "cae0d708-e5d4-414f-a61d-190df459213d",
   "metadata": {},
   "outputs": [],
   "source": [
    "import socket\n",
    "\n",
    "s=socket.socket(socket.AF_INET,socket.SOCK_DGRAM)\n",
    "\n",
    "s.bind(('localhost',1111))\n",
    "\n",
    "#listen(6)\n",
    "#c,addr=s.accept()\n",
    "#data=c.recv(1024).decode()\n",
    "\n",
    "while True:\n",
    "    client,addr=s.recvfrom(1024)\n",
    "    msg=client.decode()\n",
    "    print(\"message from client: \",msg)\n",
    "\n",
    "    if msg.lower()=='exit':\n",
    "        print('connection lost')\n",
    "        break\n",
    "\n",
    "    s.sendto(\"Hello from udp server\".encode(),addr)\n",
    "\n",
    "\n",
    "s.close()\n"
   ]
  }
 ],
 "metadata": {
  "kernelspec": {
   "display_name": "Python 3 (ipykernel)",
   "language": "python",
   "name": "python3"
  },
  "language_info": {
   "codemirror_mode": {
    "name": "ipython",
    "version": 3
   },
   "file_extension": ".py",
   "mimetype": "text/x-python",
   "name": "python",
   "nbconvert_exporter": "python",
   "pygments_lexer": "ipython3",
   "version": "3.13.5"
  }
 },
 "nbformat": 4,
 "nbformat_minor": 5
}
