{
 "cells": [
  {
   "cell_type": "code",
   "execution_count": 8,
   "id": "cfd33122",
   "metadata": {},
   "outputs": [
    {
     "name": "stdout",
     "output_type": "stream",
     "text": [
      "DESKTOP-PO8TV73\n",
      "192.168.56.1\n"
     ]
    }
   ],
   "source": [
    "import socket\n",
    "hostname=socket.gethostname()\n",
    "#gives hostname\n",
    "print(hostname)\n",
    "\n",
    "#ipaddr of host\n",
    "ipaddr=socket.gethostbyname(hostname)\n",
    "print(ipaddr)"
   ]
  },
  {
   "cell_type": "code",
   "execution_count": 12,
   "id": "f99e034f-92e5-4cf4-8085-0d7f6a38b2d9",
   "metadata": {},
   "outputs": [
    {
     "name": "stdout",
     "output_type": "stream",
     "text": [
      " port 25 service name: smtp\n",
      " port 80 service name: http\n"
     ]
    }
   ],
   "source": [
    "#getting service name,given port number and protocol\n",
    "protocol_name='tcp'\n",
    "ports=[25,80]\n",
    "for i in ports:\n",
    "    print(f\" port {i} service name: {socket.getservbyport(i,protocol_name)}\")"
   ]
  }
 ],
 "metadata": {
  "kernelspec": {
   "display_name": "Python 3 (ipykernel)",
   "language": "python",
   "name": "python3"
  },
  "language_info": {
   "codemirror_mode": {
    "name": "ipython",
    "version": 3
   },
   "file_extension": ".py",
   "mimetype": "text/x-python",
   "name": "python",
   "nbconvert_exporter": "python",
   "pygments_lexer": "ipython3",
   "version": "3.13.5"
  }
 },
 "nbformat": 4,
 "nbformat_minor": 5
}
