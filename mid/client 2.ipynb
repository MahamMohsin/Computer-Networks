{
 "cells": [
  {
   "cell_type": "code",
   "execution_count": null,
   "id": "07e2b1a7-be51-48be-9bcc-d8658c7c8097",
   "metadata": {},
   "outputs": [],
   "source": [
    "import socket\n",
    "\n",
    "s=socket.socket(socket.AF_INET,socket.SOCK_DGRAM)\n",
    "\n",
    "serveraddr=(('localhost',1221))\n",
    "\n",
    "while True:\n",
    "    msg=input(\"Enter msg: \")\n",
    "    s.sendto(msg.encode(),serveraddr)\n",
    "\n",
    "    if msg.lower=='exit':\n",
    "        print('closing connection')\n",
    "        break\n",
    "\n",
    "\n",
    "data,_=s.recvfrom(1024)\n",
    "print(data)\n",
    "\n",
    "s.close()"
   ]
  }
 ],
 "metadata": {
  "kernelspec": {
   "display_name": "Python 3 (ipykernel)",
   "language": "python",
   "name": "python3"
  },
  "language_info": {
   "codemirror_mode": {
    "name": "ipython",
    "version": 3
   },
   "file_extension": ".py",
   "mimetype": "text/x-python",
   "name": "python",
   "nbconvert_exporter": "python",
   "pygments_lexer": "ipython3",
   "version": "3.13.5"
  }
 },
 "nbformat": 4,
 "nbformat_minor": 5
}
